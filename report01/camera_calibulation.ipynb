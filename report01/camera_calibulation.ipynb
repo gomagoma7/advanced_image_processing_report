{
 "cells": [
  {
   "cell_type": "markdown",
   "metadata": {},
   "source": [
    "## Setting"
   ]
  },
  {
   "cell_type": "code",
   "execution_count": 1,
   "metadata": {},
   "outputs": [],
   "source": [
    "import numpy as np\n",
    "from pathlib import Path\n",
    "from utils.calibrate import find_chessboard_corner\n",
    "import cv2 as cv\n",
    "\n",
    "result_path = Path(\"/Users/JupiterMokusei/Documents/GitHub/advanced_image_processing_report/report01/result\")"
   ]
  },
  {
   "cell_type": "markdown",
   "metadata": {},
   "source": [
    "- This is the caliblation photo.\n",
    "\n",
    "![caliblation photos](result/checkerboard.jpg)"
   ]
  },
  {
   "cell_type": "code",
   "execution_count": 2,
   "metadata": {},
   "outputs": [
    {
     "name": "stdout",
     "output_type": "stream",
     "text": [
      "/Users/JupiterMokusei/Documents/GitHub/advanced_image_processing_report/report01/checkerboards/checkerboard_001.jpg\n",
      "/Users/JupiterMokusei/Documents/GitHub/advanced_image_processing_report/report01/checkerboards/checkerboard_000.jpg\n",
      "/Users/JupiterMokusei/Documents/GitHub/advanced_image_processing_report/report01/checkerboards/checkerboard_014.jpg\n",
      "/Users/JupiterMokusei/Documents/GitHub/advanced_image_processing_report/report01/checkerboards/checkerboard_002.jpg\n",
      "/Users/JupiterMokusei/Documents/GitHub/advanced_image_processing_report/report01/checkerboards/checkerboard_003.jpg\n",
      "/Users/JupiterMokusei/Documents/GitHub/advanced_image_processing_report/report01/checkerboards/checkerboard_007.jpg\n",
      "/Users/JupiterMokusei/Documents/GitHub/advanced_image_processing_report/report01/checkerboards/checkerboard_013.jpg\n",
      "/Users/JupiterMokusei/Documents/GitHub/advanced_image_processing_report/report01/checkerboards/checkerboard_006.jpg\n",
      "/Users/JupiterMokusei/Documents/GitHub/advanced_image_processing_report/report01/checkerboards/checkerboard_004.jpg\n",
      "/Users/JupiterMokusei/Documents/GitHub/advanced_image_processing_report/report01/checkerboards/checkerboard_005.jpg\n",
      "/Users/JupiterMokusei/Documents/GitHub/advanced_image_processing_report/report01/checkerboards/checkerboard_011.jpg\n",
      "/Users/JupiterMokusei/Documents/GitHub/advanced_image_processing_report/report01/checkerboards/checkerboard_009.jpg\n",
      "total error: 0.4378509913361033\n"
     ]
    }
   ],
   "source": [
    "chessboard_path = Path(\"/Users/JupiterMokusei/Documents/GitHub/advanced_image_processing_report/report01/checkerboards\")\n",
    "ret, mtx, dist, rvecs, tvecs = find_chessboard_corner(chessboard_path=chessboard_path, board_size=(7, 7))"
   ]
  },
  {
   "cell_type": "code",
   "execution_count": 14,
   "metadata": {},
   "outputs": [],
   "source": [
    "img = cv.imread(list(result_path.glob(\"checkerboard_test.jpg\"))[0])\n",
    "h,  w = img.shape[:2]\n",
    "newcameramtx, roi = cv.getOptimalNewCameraMatrix(mtx, dist, (w,h), 1, (w,h))"
   ]
  },
  {
   "cell_type": "code",
   "execution_count": null,
   "metadata": {},
   "outputs": [
    {
     "data": {
      "text/plain": [
       "True"
      ]
     },
     "execution_count": 15,
     "metadata": {},
     "output_type": "execute_result"
    }
   ],
   "source": [
    "# undistort\n",
    "dst = cv.undistort(img, mtx, dist, None, newcameramtx)\n",
    " \n",
    "# crop the image\n",
    "x, y, w, h = roi\n",
    "dst = dst[y:y+h, x:x+w]\n",
    "cv.imwrite('calibresult.png', dst)"
   ]
  }
 ],
 "metadata": {
  "kernelspec": {
   "display_name": ".venv",
   "language": "python",
   "name": "python3"
  },
  "language_info": {
   "codemirror_mode": {
    "name": "ipython",
    "version": 3
   },
   "file_extension": ".py",
   "mimetype": "text/x-python",
   "name": "python",
   "nbconvert_exporter": "python",
   "pygments_lexer": "ipython3",
   "version": "3.13.3"
  }
 },
 "nbformat": 4,
 "nbformat_minor": 2
}
